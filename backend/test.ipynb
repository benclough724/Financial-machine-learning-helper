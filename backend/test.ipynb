{
 "cells": [
  {
   "cell_type": "code",
   "execution_count": null,
   "id": "f3a17dc7",
   "metadata": {},
   "outputs": [
    {
     "ename": "TypeError",
     "evalue": "'module' object is not callable",
     "output_type": "error",
     "traceback": [
      "\u001b[31m---------------------------------------------------------------------------\u001b[39m",
      "\u001b[31mTypeError\u001b[39m                                 Traceback (most recent call last)",
      "\u001b[36mCell\u001b[39m\u001b[36m \u001b[39m\u001b[32mIn[3]\u001b[39m\u001b[32m, line 9\u001b[39m\n\u001b[32m      4\u001b[39m \u001b[38;5;28;01mfrom\u001b[39;00m\u001b[38;5;250m \u001b[39m\u001b[34;01mpipeline\u001b[39;00m\u001b[34;01m.\u001b[39;00m\u001b[34;01mpreprocess\u001b[39;00m\u001b[38;5;250m \u001b[39m\u001b[38;5;28;01mimport\u001b[39;00m preprocess_data\n\u001b[32m      6\u001b[39m \u001b[38;5;66;03m#BASE_DIR = Path(__file__).parent  # Directory where main.py is\u001b[39;00m\n\u001b[32m----> \u001b[39m\u001b[32m9\u001b[39m BASE_DIR = \u001b[43mPath\u001b[49m\u001b[43m(\u001b[49m\u001b[33;43m'\u001b[39;49m\u001b[33;43mmain.py\u001b[39;49m\u001b[33;43m'\u001b[39;49m\u001b[43m)\u001b[49m.parent \n\u001b[32m     10\u001b[39m DATA_DIR = BASE_DIR / \u001b[33m\"\u001b[39m\u001b[33mDatasets\u001b[39m\u001b[33m\"\u001b[39m \u001b[38;5;66;03m# Dataset directory\u001b[39;00m\n\u001b[32m     11\u001b[39m CSV_FILE = DATA_DIR / \u001b[33m\"\u001b[39m\u001b[33mexpense_data_1.csv\u001b[39m\u001b[33m\"\u001b[39m\n",
      "\u001b[31mTypeError\u001b[39m: 'module' object is not callable"
     ]
    }
   ],
   "source": [
    "import pathlib as Path\n",
    "import pandas as pd\n",
    "from pipeline.kaggle import download_and_unzip_kaggle\n",
    "from pipeline.data_loader import load_data\n",
    "from pipeline.preprocess import preprocess_data\n",
    "\n",
    "BASE_DIR = Path.cwd  # Directory where main.py is\n",
    "\n",
    "# Point to the current directory (where your notebook is)\n",
    "BASE_DIR = Path.cwd()\n",
    "\n",
    "# Build the path to your CSV file\n",
    "CSV_FILE = BASE_DIR / \"Datasets\" / \"expense_data_1.csv\"\n",
    "\n",
    "df = load_data(CSV_FILE) # load dataset\n",
    "df = preprocess_data(df) # preprocess dataset\n"
   ]
  }
 ],
 "metadata": {
  "kernelspec": {
   "display_name": "Python 3",
   "language": "python",
   "name": "python3"
  },
  "language_info": {
   "codemirror_mode": {
    "name": "ipython",
    "version": 3
   },
   "file_extension": ".py",
   "mimetype": "text/x-python",
   "name": "python",
   "nbconvert_exporter": "python",
   "pygments_lexer": "ipython3",
   "version": "3.12.6"
  }
 },
 "nbformat": 4,
 "nbformat_minor": 5
}
