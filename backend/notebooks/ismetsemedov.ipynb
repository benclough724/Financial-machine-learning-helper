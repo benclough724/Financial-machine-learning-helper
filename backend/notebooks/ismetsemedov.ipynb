{
 "cells": [
  {
   "cell_type": "code",
   "execution_count": 13,
   "id": "a54aa61c",
   "metadata": {},
   "outputs": [],
   "source": [
    "import pandas as pd\n",
    "import kaggle\n",
    "import matplotlib.pyplot as plt\n",
    "\n",
    "\n",
    "# kaggle.api.authenticate()\n",
    "# kaggle.api.dataset_download_files('ismetsemedov/personal-budget-transactions-dataset', path='.', unzip=True)\n",
    "\n"
   ]
  },
  {
   "cell_type": "code",
   "execution_count": 9,
   "id": "23409f10",
   "metadata": {},
   "outputs": [
    {
     "data": {
      "text/plain": [
       "<bound method NDFrame.head of                            date    category  amount\n",
       "0     2022-07-06 05:57:10 +0000  Restuarant    5.50\n",
       "1     2022-07-06 05:57:27 +0000      Market    2.00\n",
       "2     2022-07-06 05:58:12 +0000       Coffe   30.10\n",
       "3     2022-07-06 05:58:25 +0000      Market   17.33\n",
       "4     2022-07-06 05:59:00 +0000  Restuarant    5.50\n",
       "...                         ...         ...     ...\n",
       "3603  2024-09-28 13:31:37 +0000      Market    8.00\n",
       "3604  2024-09-29 02:57:07 +0000   Transport    0.50\n",
       "3605  2024-09-29 04:29:03 +0000      Market    7.40\n",
       "3606  2024-09-29 04:53:24 +0000       Coffe   15.00\n",
       "3607  2024-09-29 10:40:38 +0000  Restuarant    8.00\n",
       "\n",
       "[3608 rows x 3 columns]>"
      ]
     },
     "metadata": {},
     "output_type": "display_data"
    }
   ],
   "source": [
    "df = pd.read_csv('budget_data.csv')\n",
    "\n",
    "\n",
    "display(df.head)"
   ]
  },
  {
   "cell_type": "code",
   "execution_count": 15,
   "id": "27427d22",
   "metadata": {},
   "outputs": [
    {
     "data": {
      "text/html": [
       "<div>\n",
       "<style scoped>\n",
       "    .dataframe tbody tr th:only-of-type {\n",
       "        vertical-align: middle;\n",
       "    }\n",
       "\n",
       "    .dataframe tbody tr th {\n",
       "        vertical-align: top;\n",
       "    }\n",
       "\n",
       "    .dataframe thead th {\n",
       "        text-align: right;\n",
       "    }\n",
       "</style>\n",
       "<table border=\"1\" class=\"dataframe\">\n",
       "  <thead>\n",
       "    <tr style=\"text-align: right;\">\n",
       "      <th></th>\n",
       "      <th>date</th>\n",
       "      <th>category</th>\n",
       "      <th>amount</th>\n",
       "    </tr>\n",
       "  </thead>\n",
       "  <tbody>\n",
       "    <tr>\n",
       "      <th>0</th>\n",
       "      <td>2022-07-06 05:57:10 +0000</td>\n",
       "      <td>Restuarant</td>\n",
       "      <td>5.50</td>\n",
       "    </tr>\n",
       "    <tr>\n",
       "      <th>1</th>\n",
       "      <td>2022-07-06 05:57:27 +0000</td>\n",
       "      <td>Market</td>\n",
       "      <td>2.00</td>\n",
       "    </tr>\n",
       "    <tr>\n",
       "      <th>2</th>\n",
       "      <td>2022-07-06 05:58:12 +0000</td>\n",
       "      <td>Coffe</td>\n",
       "      <td>30.10</td>\n",
       "    </tr>\n",
       "    <tr>\n",
       "      <th>3</th>\n",
       "      <td>2022-07-06 05:58:25 +0000</td>\n",
       "      <td>Market</td>\n",
       "      <td>17.33</td>\n",
       "    </tr>\n",
       "    <tr>\n",
       "      <th>4</th>\n",
       "      <td>2022-07-06 05:59:00 +0000</td>\n",
       "      <td>Restuarant</td>\n",
       "      <td>5.50</td>\n",
       "    </tr>\n",
       "  </tbody>\n",
       "</table>\n",
       "</div>"
      ],
      "text/plain": [
       "                        date    category  amount\n",
       "0  2022-07-06 05:57:10 +0000  Restuarant    5.50\n",
       "1  2022-07-06 05:57:27 +0000      Market    2.00\n",
       "2  2022-07-06 05:58:12 +0000       Coffe   30.10\n",
       "3  2022-07-06 05:58:25 +0000      Market   17.33\n",
       "4  2022-07-06 05:59:00 +0000  Restuarant    5.50"
      ]
     },
     "metadata": {},
     "output_type": "display_data"
    },
    {
     "data": {
      "image/png": "[encoded data removed]",
      "text/plain": [
       "<Figure size 1000x600 with 1 Axes>"
      ]
     },
     "metadata": {},
     "output_type": "display_data"
    }
   ],
   "source": [
    "# Filter transactions where amount > 1\n",
    "filtered_df = df[df['amount'] > 1]\n",
    "\n",
    "display(df.head())\n",
    "\n",
    "# Plot a histogram showing the distribution of those amounts\n",
    "plt.figure(figsize=(10, 6))\n",
    "plt.hist(filtered_df['amount'], bins=30, color='skyblue', edgecolor='black')\n",
    "\n",
    "plt.title(\"Histogram of Transactions Over £1\")\n",
    "plt.xlabel(\"Transaction Amount (£)\")\n",
    "plt.ylabel(\"Frequency\")\n",
    "plt.grid(True)\n",
    "plt.tight_layout()\n",
    "plt.show()"
   ]
  },
  {
   "cell_type": "code",
   "execution_count": null,
   "id": "193d26e5",
   "metadata": {},
   "outputs": [],
   "source": []
  }
 ],
 "metadata": {
  "kernelspec": {
   "display_name": "Home PC",
   "language": "python",
   "name": "home"
  },
  "language_info": {
   "codemirror_mode": {
    "name": "ipython",
    "version": 3
   },
   "file_extension": ".py",
   "mimetype": "text/x-python",
   "name": "python",
   "nbconvert_exporter": "python",
   "pygments_lexer": "ipython3",
   "version": "3.12.6"
  }
 },
 "nbformat": 4,
 "nbformat_minor": 5
}
